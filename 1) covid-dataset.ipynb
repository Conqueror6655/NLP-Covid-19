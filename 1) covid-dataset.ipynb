{
 "cells": [
  {
   "cell_type": "markdown",
   "metadata": {},
   "source": [
    "# Big Data Project-2\n",
    "# Notebook-1\n",
    "\n",
    "### Yash Kasundra\n",
    "### ID- a1838670\n",
    "\n",
    "## Covid-19 (cord dataset) create searching similarity tool"
   ]
  },
  {
   "cell_type": "markdown",
   "metadata": {},
   "source": [
    "### Description\n",
    "\n",
    "1. Collect and process pdf data dump from COVID-19 Open Research Dataset Challenge (CORD-19)\n",
    "2.  Analyze the data and provide publication statistics such as the number of publications according to time, location but not limited to. Provide (any type of) visualization for the results.\n",
    "\n",
    "3. Learn sentence embedding from the articles' abstract and main content respectively.\n",
    "\n",
    "4. Build a tool for question answering: given a user input sentence or query, outputs the top 10 most relevant sentences from the data and the source of the data, i.e., the sentence comes from which article.  The tool could be command-line based or a simple Web-based interface. \n",
    "\n",
    "credits: University of Adelaide (4120_COMP_SCI_7209)"
   ]
  },
  {
   "cell_type": "markdown",
   "metadata": {},
   "source": [
    "#### Dataset can be Found on Kaggle using this link:  \n",
    "\n",
    "https://www.kaggle.com/allen-institute-for-ai/CORD-19-research-challenge"
   ]
  },
  {
   "cell_type": "markdown",
   "metadata": {},
   "source": [
    "In this notebook we will create a csv file that would contain all the necessary columns for our 2nd notebook.\n",
    "Here we will read text data from jason files and then remove all null values to create a dataframe with around 7900 articles data, which we would then use in our 2nd notebook to train our models and do EDA- preprocessing."
   ]
  },
  {
   "cell_type": "code",
   "execution_count": 1,
   "metadata": {
    "execution": {
     "iopub.execute_input": "2021-10-19T04:32:34.708147Z",
     "iopub.status.busy": "2021-10-19T04:32:34.707668Z",
     "iopub.status.idle": "2021-10-19T04:32:34.720567Z",
     "shell.execute_reply": "2021-10-19T04:32:34.719266Z",
     "shell.execute_reply.started": "2021-10-19T04:32:34.708036Z"
    }
   },
   "outputs": [],
   "source": [
    "# Importing required libraries\n",
    "\n",
    "import numpy as np\n",
    "import pandas as pd\n",
    "import os, json\n",
    "import glob\n",
    "import csv"
   ]
  },
  {
   "cell_type": "markdown",
   "metadata": {},
   "source": [
    "Checking Metadata file"
   ]
  },
  {
   "cell_type": "code",
   "execution_count": 2,
   "metadata": {
    "execution": {
     "iopub.execute_input": "2021-10-19T04:32:35.532416Z",
     "iopub.status.busy": "2021-10-19T04:32:35.531769Z",
     "iopub.status.idle": "2021-10-19T04:33:05.669856Z",
     "shell.execute_reply": "2021-10-19T04:33:05.668973Z",
     "shell.execute_reply.started": "2021-10-19T04:32:35.532365Z"
    }
   },
   "outputs": [],
   "source": [
    "# Reading data directly from dataset hosted on kaggle\n",
    "\n",
    "df = pd.read_csv('../input/CORD-19-research-challenge/metadata.csv')"
   ]
  },
  {
   "cell_type": "code",
   "execution_count": 3,
   "metadata": {
    "execution": {
     "iopub.execute_input": "2021-10-19T04:33:05.671515Z",
     "iopub.status.busy": "2021-10-19T04:33:05.671239Z",
     "iopub.status.idle": "2021-10-19T04:33:05.716542Z",
     "shell.execute_reply": "2021-10-19T04:33:05.715713Z",
     "shell.execute_reply.started": "2021-10-19T04:33:05.671487Z"
    }
   },
   "outputs": [],
   "source": [
    "df.head()"
   ]
  },
  {
   "cell_type": "code",
   "execution_count": 4,
   "metadata": {
    "execution": {
     "iopub.execute_input": "2021-10-19T04:33:05.718353Z",
     "iopub.status.busy": "2021-10-19T04:33:05.718087Z",
     "iopub.status.idle": "2021-10-19T04:33:06.806135Z",
     "shell.execute_reply": "2021-10-19T04:33:06.805173Z",
     "shell.execute_reply.started": "2021-10-19T04:33:05.718327Z"
    }
   },
   "outputs": [],
   "source": [
    "# Checking all the columns from the in the dataset\n",
    "\n",
    "df.info()"
   ]
  },
  {
   "cell_type": "code",
   "execution_count": 5,
   "metadata": {
    "execution": {
     "iopub.execute_input": "2021-10-19T04:33:06.808279Z",
     "iopub.status.busy": "2021-10-19T04:33:06.807982Z",
     "iopub.status.idle": "2021-10-19T04:33:06.918193Z",
     "shell.execute_reply": "2021-10-19T04:33:06.917308Z",
     "shell.execute_reply.started": "2021-10-19T04:33:06.808250Z"
    }
   },
   "outputs": [],
   "source": [
    "# Removing unnecessary columns for our project\n",
    "\n",
    "df = df.drop(['sha','source_x','doi', 'pmcid' , 'pubmed_id' , 'license' , 'mag_id' , 'who_covidence_id' ,\n",
    "                          'arxiv_id', 's2_id'],axis = 1)"
   ]
  },
  {
   "cell_type": "code",
   "execution_count": 6,
   "metadata": {
    "execution": {
     "iopub.execute_input": "2021-10-19T04:33:06.919444Z",
     "iopub.status.busy": "2021-10-19T04:33:06.919158Z",
     "iopub.status.idle": "2021-10-19T04:33:07.125845Z",
     "shell.execute_reply": "2021-10-19T04:33:07.124790Z",
     "shell.execute_reply.started": "2021-10-19T04:33:06.919414Z"
    }
   },
   "outputs": [],
   "source": [
    "# drop rows that have empty pdf_json cells\n",
    "\n",
    "df.dropna(subset=['pdf_json_files'], inplace=True)"
   ]
  },
  {
   "cell_type": "code",
   "execution_count": 7,
   "metadata": {
    "execution": {
     "iopub.execute_input": "2021-10-19T04:33:07.127846Z",
     "iopub.status.busy": "2021-10-19T04:33:07.127405Z",
     "iopub.status.idle": "2021-10-19T04:33:07.153728Z",
     "shell.execute_reply": "2021-10-19T04:33:07.152995Z",
     "shell.execute_reply.started": "2021-10-19T04:33:07.127800Z"
    }
   },
   "outputs": [],
   "source": [
    "# create a new df with first 12000 rows\n",
    "\n",
    "covid_df = df.sample(12000)"
   ]
  },
  {
   "cell_type": "code",
   "execution_count": 8,
   "metadata": {
    "execution": {
     "iopub.execute_input": "2021-10-19T04:33:07.155511Z",
     "iopub.status.busy": "2021-10-19T04:33:07.154994Z",
     "iopub.status.idle": "2021-10-19T04:33:07.186447Z",
     "shell.execute_reply": "2021-10-19T04:33:07.185634Z",
     "shell.execute_reply.started": "2021-10-19T04:33:07.155477Z"
    }
   },
   "outputs": [],
   "source": [
    "covid_df.info()"
   ]
  },
  {
   "cell_type": "code",
   "execution_count": 9,
   "metadata": {
    "execution": {
     "iopub.execute_input": "2021-10-19T04:33:07.189489Z",
     "iopub.status.busy": "2021-10-19T04:33:07.188723Z",
     "iopub.status.idle": "2021-10-19T04:33:07.220130Z",
     "shell.execute_reply": "2021-10-19T04:33:07.219176Z",
     "shell.execute_reply.started": "2021-10-19T04:33:07.189448Z"
    }
   },
   "outputs": [],
   "source": [
    "# Dropping rows with any null values\n",
    "\n",
    "covid_df = covid_df.dropna()"
   ]
  },
  {
   "cell_type": "code",
   "execution_count": 10,
   "metadata": {
    "execution": {
     "iopub.execute_input": "2021-10-19T04:33:07.222229Z",
     "iopub.status.busy": "2021-10-19T04:33:07.221923Z",
     "iopub.status.idle": "2021-10-19T04:33:07.249143Z",
     "shell.execute_reply": "2021-10-19T04:33:07.247646Z",
     "shell.execute_reply.started": "2021-10-19T04:33:07.222198Z"
    }
   },
   "outputs": [],
   "source": [
    "covid_df.info()"
   ]
  },
  {
   "cell_type": "code",
   "execution_count": 11,
   "metadata": {
    "execution": {
     "iopub.execute_input": "2021-10-19T04:33:07.251190Z",
     "iopub.status.busy": "2021-10-19T04:33:07.250725Z",
     "iopub.status.idle": "2021-10-19T04:33:07.279756Z",
     "shell.execute_reply": "2021-10-19T04:33:07.278671Z",
     "shell.execute_reply.started": "2021-10-19T04:33:07.251144Z"
    }
   },
   "outputs": [],
   "source": [
    "covid_df[\"pdf_json_files\"] = covid_df[\"pdf_json_files\"].str.split(\";\").str[0]"
   ]
  },
  {
   "cell_type": "code",
   "execution_count": 12,
   "metadata": {
    "execution": {
     "iopub.execute_input": "2021-10-19T04:33:07.281715Z",
     "iopub.status.busy": "2021-10-19T04:33:07.281298Z",
     "iopub.status.idle": "2021-10-19T04:33:07.300949Z",
     "shell.execute_reply": "2021-10-19T04:33:07.299952Z",
     "shell.execute_reply.started": "2021-10-19T04:33:07.281671Z"
    }
   },
   "outputs": [],
   "source": [
    "covid_df.head()"
   ]
  },
  {
   "cell_type": "code",
   "execution_count": 13,
   "metadata": {
    "execution": {
     "iopub.execute_input": "2021-10-19T04:33:07.303363Z",
     "iopub.status.busy": "2021-10-19T04:33:07.302921Z",
     "iopub.status.idle": "2021-10-19T04:33:07.310489Z",
     "shell.execute_reply": "2021-10-19T04:33:07.309519Z",
     "shell.execute_reply.started": "2021-10-19T04:33:07.303317Z"
    }
   },
   "outputs": [],
   "source": [
    "#function to format body_text into block of text \n",
    "\n",
    "def format_body(body_text):\n",
    "    texts = [(di['section'], di['text']) for di in body_text]\n",
    "    texts_di = {di['section']: \"\" for di in body_text}\n",
    "    \n",
    "    for section, text in texts:\n",
    "        texts_di[section] += text\n",
    "\n",
    "    body = \"\"\n",
    "\n",
    "    for section, text in texts_di.items():\n",
    "        body += section\n",
    "        body += \"\\n\\n\"\n",
    "        body += text\n",
    "        body += \"\\n\\n\"\n",
    "    \n",
    "    body.encode('utf-8')\n",
    "    \n",
    "    return body"
   ]
  },
  {
   "cell_type": "code",
   "execution_count": 14,
   "metadata": {
    "execution": {
     "iopub.execute_input": "2021-10-19T04:33:07.312201Z",
     "iopub.status.busy": "2021-10-19T04:33:07.311844Z",
     "iopub.status.idle": "2021-10-19T04:34:16.284927Z",
     "shell.execute_reply": "2021-10-19T04:34:16.283935Z",
     "shell.execute_reply.started": "2021-10-19T04:33:07.312167Z"
    }
   },
   "outputs": [],
   "source": [
    "path_to_json ='../input/CORD-19-research-challenge/'\n",
    "\n",
    "from pandas import DataFrame\n",
    "body_text = []\n",
    "for filename in covid_df['pdf_json_files']:\n",
    "    filename = path_to_json + filename \n",
    "    my_json_file = json.load(open(filename, 'r'))\n",
    "    body_text.append(format_body(my_json_file['body_text']))"
   ]
  },
  {
   "cell_type": "code",
   "execution_count": 15,
   "metadata": {
    "execution": {
     "iopub.execute_input": "2021-10-19T04:34:16.286981Z",
     "iopub.status.busy": "2021-10-19T04:34:16.286603Z",
     "iopub.status.idle": "2021-10-19T04:34:16.293889Z",
     "shell.execute_reply": "2021-10-19T04:34:16.292900Z",
     "shell.execute_reply.started": "2021-10-19T04:34:16.286950Z"
    }
   },
   "outputs": [],
   "source": [
    "# Creating a column with those data that we just read from jason files\n",
    "\n",
    "covid_df['body_text'] = body_text"
   ]
  },
  {
   "cell_type": "code",
   "execution_count": 16,
   "metadata": {
    "execution": {
     "iopub.execute_input": "2021-10-19T04:34:16.295640Z",
     "iopub.status.busy": "2021-10-19T04:34:16.295306Z",
     "iopub.status.idle": "2021-10-19T04:34:16.324714Z",
     "shell.execute_reply": "2021-10-19T04:34:16.323704Z",
     "shell.execute_reply.started": "2021-10-19T04:34:16.295601Z"
    }
   },
   "outputs": [],
   "source": [
    "covid_df.head(10)"
   ]
  },
  {
   "cell_type": "code",
   "execution_count": 17,
   "metadata": {
    "execution": {
     "iopub.execute_input": "2021-10-19T04:34:16.326349Z",
     "iopub.status.busy": "2021-10-19T04:34:16.326030Z",
     "iopub.status.idle": "2021-10-19T04:34:27.088965Z",
     "shell.execute_reply": "2021-10-19T04:34:27.087970Z",
     "shell.execute_reply.started": "2021-10-19T04:34:16.326317Z"
    }
   },
   "outputs": [],
   "source": [
    "# Saving that dataset into an csv file to be used in our second notebook (to work on jupyter notebook)\n",
    "\n",
    "covid_df.to_csv('covid_data.csv',index=False)"
   ]
  },
  {
   "cell_type": "code",
   "execution_count": null,
   "metadata": {},
   "outputs": [],
   "source": []
  }
 ],
 "metadata": {
  "kernelspec": {
   "display_name": "Python 3",
   "language": "python",
   "name": "python3"
  },
  "language_info": {
   "codemirror_mode": {
    "name": "ipython",
    "version": 3
   },
   "file_extension": ".py",
   "mimetype": "text/x-python",
   "name": "python",
   "nbconvert_exporter": "python",
   "pygments_lexer": "ipython3",
   "version": "3.8.8"
  }
 },
 "nbformat": 4,
 "nbformat_minor": 4
}
